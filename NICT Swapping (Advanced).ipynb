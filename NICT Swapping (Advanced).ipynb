{
 "cells": [
  {
   "cell_type": "markdown",
   "id": "6ba4cd43",
   "metadata": {},
   "source": [
    "<img src=\"Imgs/swap.png\">"
   ]
  },
  {
   "cell_type": "markdown",
   "id": "194de537",
   "metadata": {},
   "source": [
    "But it gets even better! Imagine now _Alice_ and _Bob_ share an entangled pair, _Alice_ and _Charlie_ share an entangled pair, and _Charlie_ and _Diane_ share an entangled pair. So, we have 6 qubits in total and they are paired off. _Alice_ and _Bob_ perform the teleportation protocol, as do _Charlie_ and _Diane_.   \n",
    "\n",
    "\n",
    "_Alice_ and _Charlie_ measure and hence collapse each of the qubits they had initially entangled. Those qubits are individually teleported to _Bob_ and _Diane_, respectively. But, _Bob_ and _Diane_ now share entanglement!   \n",
    "\n",
    "\n",
    "\n",
    "This protocol is called entanglement swapping and it is very useful in quantum networking scenarios."
   ]
  },
  {
   "cell_type": "code",
   "execution_count": 2,
   "id": "297887bd",
   "metadata": {},
   "outputs": [],
   "source": [
    "#Codes in this notebook are inspired by IBM's Qiskit tutorials and the arXiv:1903.04359v1 paper\n",
    "\n",
    "#Libraries needed to implement and simulate quantum circuits\n",
    "from qiskit import QuantumRegister, ClassicalRegister, QuantumCircuit, Aer, execute \n",
    "import math as m\n",
    "#Custem functions to simplify answers\n",
    "import Our_Qiskit_Functions as oq #a part of the libabry presented in arXiv:1903.04359v1.\n",
    "\n",
    "\n",
    "#Initialize backends simulators to visualize circuits\n",
    "S_simulator = Aer.backends(name='statevector_simulator')[0]\n",
    "Q_simulator = Aer.backends(name='qasm_simulator')[0]\n",
    "sim = Aer.get_backend('aer_simulator')\n",
    "\n",
    "#Create quantum registers (to hold qubits)\n",
    "q = QuantumRegister(2)\n",
    "#Classical register to hold classical bits (Used to measure results)\n",
    "c = ClassicalRegister(2)\n",
    "#Create a quantum circuit using the above registers\n",
    "qc = QuantumCircuit(q,c)"
   ]
  },
  {
   "cell_type": "markdown",
   "id": "c0c12b55",
   "metadata": {},
   "source": [
    "## The Bell States\n",
    "---\n",
    "\n",
    "There are four states of two qubits which lead to this maximal value of $2\\sqrt{2}$ and they are known as the four maximally entangled two-qubit states or Bell states.    \n",
    "\n",
    "\n",
    "$\\begin{aligned}\n",
    "\\left|\\Phi_{+}\\right\\rangle=\\frac{1}{\\sqrt{2}}(|00\\rangle+|11\\rangle)\n",
    "\\\\\n",
    "\\left|\\Phi_{-}\\right\\rangle=\\frac{1}{\\sqrt{2}}(|00\\rangle-|11\\rangle)\n",
    "\\\\\n",
    "\\left|\\Psi_{+}\\right\\rangle=\\frac{1}{\\sqrt{2}}(|01\\rangle+|10\\rangle)\n",
    "\\\\\n",
    "\\left|\\Psi_{-}\\right\\rangle=\\frac{1}{\\sqrt{2}}(|01\\rangle-|10\\rangle)\n",
    "\\end{aligned}$"
   ]
  },
  {
   "cell_type": "code",
   "execution_count": 3,
   "id": "6fd2b3d2",
   "metadata": {},
   "outputs": [
    {
     "data": {
      "text/html": [
       "<pre style=\"word-wrap: normal;white-space: pre;background: #fff0;line-height: 1.1;font-family: &quot;Courier New&quot;,Courier,monospace\">      ┌───┐     \n",
       "q0_0: ┤ H ├──■──\n",
       "      └───┘┌─┴─┐\n",
       "q0_1: ─────┤ X ├\n",
       "           └───┘\n",
       "c0: 2/══════════\n",
       "                </pre>"
      ],
      "text/plain": [
       "      ┌───┐     \n",
       "q0_0: ┤ H ├──■──\n",
       "      └───┘┌─┴─┐\n",
       "q0_1: ─────┤ X ├\n",
       "           └───┘\n",
       "c0: 2/══════════\n",
       "                "
      ]
     },
     "execution_count": 3,
     "metadata": {},
     "output_type": "execute_result"
    }
   ],
   "source": [
    "#Creating Phi+\n",
    "\n",
    "'''\n",
    "\n",
    "Write Code here\n",
    "\n",
    "'''"
   ]
  },
  {
   "cell_type": "code",
   "execution_count": null,
   "id": "5dab204a",
   "metadata": {},
   "outputs": [],
   "source": [
    "#Creating Phi-\n",
    "\n",
    "'''\n",
    "\n",
    "Write Code here\n",
    "\n",
    "'''"
   ]
  },
  {
   "cell_type": "code",
   "execution_count": null,
   "id": "77be0bae",
   "metadata": {},
   "outputs": [],
   "source": [
    "#Creating Psi+\n",
    "\n",
    "'''\n",
    "\n",
    "Write Code here\n",
    "\n",
    "'''"
   ]
  },
  {
   "cell_type": "code",
   "execution_count": null,
   "id": "df389125",
   "metadata": {},
   "outputs": [],
   "source": [
    "#Creating Psi-\n",
    "\n",
    "'''\n",
    "\n",
    "Write Code here\n",
    "\n",
    "'''"
   ]
  },
  {
   "cell_type": "markdown",
   "id": "0cd30859",
   "metadata": {},
   "source": [
    "## Bell state analyzer\n",
    "---\n",
    "\n",
    "Suppose we have an arbitrary Bell state and we want to know which one it is. We can do that by measuring the state in the computational (z-basis) basis. Because doing so will always give the same pattern that we can then use to determine the input Bell state. That's the job of a Bell state analyzer.\n",
    "\n",
    "\n",
    "| Bell state| q0,q1  |\n",
    "|---------  |--------------       |\n",
    "| $\\left|\\Phi_{+}\\right\\rangle$         | 1,1       |\n",
    "| $\\left|\\Phi_{-}\\right\\rangle$         | -1,1       |\n",
    "| $\\left|\\Psi_{+}\\right\\rangle$         | 1,-1       |\n",
    "| $\\left|\\Psi_{-}\\right\\rangle$         | -1,-1       |"
   ]
  },
  {
   "cell_type": "code",
   "execution_count": null,
   "id": "4a12e395",
   "metadata": {},
   "outputs": [],
   "source": [
    "#Measure state Phi+\n",
    "q = QuantumRegister(2)\n",
    "#Classical register to hold classical bits (Used to measure results)\n",
    "c = ClassicalRegister(2)\n",
    "#Create a quantum circuit using the above registers\n",
    "qc = QuantumCircuit(q,c)\n",
    "\n",
    "#Create the state\n",
    "'''\n",
    "\n",
    "Write Code here\n",
    "\n",
    "'''\n",
    "\n",
    "#measure in computation basis\n",
    "\n",
    "'''\n",
    "\n",
    "Write Code here\n",
    "\n",
    "'''"
   ]
  },
  {
   "cell_type": "markdown",
   "id": "27f6fff7",
   "metadata": {},
   "source": [
    "## Entanglement Swapping\n",
    "---\n",
    "\n",
    "Let's say we have three people, Alice, Bob and Clara. Both Alice and Bob create two Bell states, and send on qubit of their Bell state to Clara.\n",
    "\n",
    "\n",
    "Clara then, performs a Bell state analyzing operation and send the resultant two qubits to Alice or Bob or both to apply on their reminder qubit. \n",
    "\n",
    "\n",
    "This results is used to select which unitary (x, z) is used on, say Bob's, initial qubit. Doing so, entangling Bob's qubit with Alice's initial one."
   ]
  },
  {
   "cell_type": "code",
   "execution_count": null,
   "id": "12159e75",
   "metadata": {},
   "outputs": [],
   "source": [
    "#Create the initial state\n",
    "alice = QuantumRegister(2)\n",
    "bob = QuantumRegister(2)\n",
    "clara = ClassicalRegistera(2)\n",
    "qc = QuantumCircuit(alice, bob, clara)\n",
    "\n",
    "\n",
    "# Put Alice's qubits in Phi+ state\n",
    "'''\n",
    "\n",
    "Write Code here\n",
    "\n",
    "'''\n",
    "\n",
    "#Put Bob's qubits in Phi+ state\n",
    "'''\n",
    "\n",
    "Write Code here\n",
    "\n",
    "'''\n",
    "\n",
    "#Clara applies Bell state analyzer to alice[1] and bob[0]\n",
    "qc.cx(alice[1],bob[0])\n",
    "qc.h(bob[0])\n",
    "\n",
    "#Clara measures the qubits\n",
    "'''\n",
    "\n",
    "Write Code here\n",
    "\n",
    "'''\n",
    "\n",
    "#Bob perform unitary transportation\n",
    "if clara[0] == 1:\n",
    "    qc.z(bob[1])\n",
    "# If needed Perform a bit flip correction to qubit (3)\n",
    "if clara[1] == 1:\n",
    "    qc.x(bob[1])\n",
    "    \n",
    "    "
   ]
  },
  {
   "cell_type": "code",
   "execution_count": null,
   "id": "93adb9a3",
   "metadata": {},
   "outputs": [],
   "source": [
    "# EXERCISE: Add code to print out the wave function on the remaining two qubits. Is it a Bell pair?\n",
    "# EXERCISE: Add code to measure out the two remaining qubits. Do the results match what you expect?"
   ]
  }
 ],
 "metadata": {
  "kernelspec": {
   "display_name": "Python 3",
   "language": "python",
   "name": "python3"
  },
  "language_info": {
   "codemirror_mode": {
    "name": "ipython",
    "version": 3
   },
   "file_extension": ".py",
   "mimetype": "text/x-python",
   "name": "python",
   "nbconvert_exporter": "python",
   "pygments_lexer": "ipython3",
   "version": "3.8.8"
  },
  "latex_envs": {
   "LaTeX_envs_menu_present": true,
   "autoclose": true,
   "autocomplete": true,
   "bibliofile": "biblio.bib",
   "cite_by": "apalike",
   "current_citInitial": 1,
   "eqLabelWithNumbers": true,
   "eqNumInitial": 1,
   "hotkeys": {
    "equation": "Ctrl-E",
    "itemize": "Ctrl-I"
   },
   "labels_anchors": false,
   "latex_user_defs": false,
   "report_style_numbering": false,
   "user_envs_cfg": false
  },
  "toc": {
   "base_numbering": 1,
   "nav_menu": {},
   "number_sections": true,
   "sideBar": true,
   "skip_h1_title": false,
   "title_cell": "Table of Contents",
   "title_sidebar": "Contents",
   "toc_cell": false,
   "toc_position": {},
   "toc_section_display": true,
   "toc_window_display": false
  }
 },
 "nbformat": 4,
 "nbformat_minor": 5
}
