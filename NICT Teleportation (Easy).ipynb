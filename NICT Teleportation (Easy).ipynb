{
 "cells": [
  {
   "cell_type": "markdown",
   "id": "a428d852",
   "metadata": {},
   "source": [
    "<img src=\"Imgs/QS.png\">"
   ]
  },
  {
   "cell_type": "markdown",
   "id": "330cb284",
   "metadata": {},
   "source": [
    "## Overview \n",
    "Alice wants to send quantum information to Bob. Specifically, suppose she wants to send the qubit state |$\\varphi$> = $\\alpha$|0> + $\\beta$|1> .This entails passing on information about $\\alpha$ and $\\beta$ to Bob.\n",
    "\n",
    "---\n",
    "\n",
    "### Revision of Quantum communication rules\n",
    "\n",
    "\n",
    "1- Qubits can be entagelment regardless of physical distance between them.  \n",
    "2- The entagelment breaks if one of the qubits is measured.  \n",
    "3- Qubits in arbitrary state can not be cloned.  \n",
    "4- A qubit with a known state can be copied. "
   ]
  },
  {
   "cell_type": "code",
   "execution_count": 1,
   "id": "685f11f6",
   "metadata": {},
   "outputs": [],
   "source": [
    "#Codes in this notebook are inspired by IBM's Qiskit tutorials and the arXiv:1903.04359v1 paper\n",
    "\n",
    "#Libraries needed to implement and simulate quantum circuits\n",
    "from qiskit import QuantumRegister, ClassicalRegister, QuantumCircuit, Aer, execute \n",
    "import math as m\n",
    "#Custem functions to simplify answers\n",
    "import Our_Qiskit_Functions as oq #a part of the libabry presented in arXiv:1903.04359v1.\n",
    "\n",
    "\n",
    "#Initialize backends simulators to visualize circuits\n",
    "S_simulator = Aer.backends(name='statevector_simulator')[0]\n",
    "Q_simulator = Aer.backends(name='qasm_simulator')[0]\n",
    "sim = Aer.get_backend('aer_simulator')\n",
    "\n",
    "#Create quantum registers (to hold qubits)\n",
    "q = QuantumRegister(2)\n",
    "#Classical register to hold classical bits (Used to measure results)\n",
    "c = ClassicalRegister(2)\n",
    "#Create a quantum circuit using the above registers\n",
    "qc = QuantumCircuit(q,c)"
   ]
  },
  {
   "cell_type": "markdown",
   "id": "5faa260b",
   "metadata": {},
   "source": [
    "Alice would like to send Bob a qubit that is in some unknown state *but* Alice cannot directly clone the qubit, because of the “No Cloning Theorem”!!  \n",
    "\n",
    "So, how can she send it??\n",
    "\n",
    "\n",
    "Alice prepares a pair of entangled qubits and sends one to Bob.\n",
    "\n",
    "$$\n",
    "|\\psi\\rangle=(\\alpha|0\\rangle+\\beta|1\\rangle)\n",
    "$$\n",
    "\n",
    "$$\n",
    "\\frac{1}{\\sqrt{2}}(|00\\rangle+|11\\rangle)\n",
    "$$"
   ]
  },
  {
   "cell_type": "code",
   "execution_count": 9,
   "id": "84ca53c7",
   "metadata": {},
   "outputs": [
    {
     "data": {
      "text/html": [
       "<pre style=\"word-wrap: normal;white-space: pre;background: #fff0;line-height: 1.1;font-family: &quot;Courier New&quot;,Courier,monospace\">       ┌─────────┐      ░ \n",
       "q53_0: ┤ U1(0.5) ├──────░─\n",
       "       └──┬───┬──┘      ░ \n",
       "q53_1: ───┤ H ├─────■───░─\n",
       "          └───┘   ┌─┴─┐ ░ \n",
       "q53_2: ───────────┤ X ├─░─\n",
       "                  └───┘ ░ \n",
       " c6: 3/═══════════════════\n",
       "                          </pre>"
      ],
      "text/plain": [
       "       ┌─────────┐      ░ \n",
       "q53_0: ┤ U1(0.5) ├──────░─\n",
       "       └──┬───┬──┘      ░ \n",
       "q53_1: ───┤ H ├─────■───░─\n",
       "          └───┘   ┌─┴─┐ ░ \n",
       "q53_2: ───────────┤ X ├─░─\n",
       "                  └───┘ ░ \n",
       " c6: 3/═══════════════════\n",
       "                          "
      ]
     },
     "execution_count": 9,
     "metadata": {},
     "output_type": "execute_result"
    }
   ],
   "source": [
    "#Code of Equation (3) and (4)\n",
    "# Create a Quantum Register and classical registers with 3 qubits and 3 classical bits.\n",
    "q = QuantumRegister(3)\n",
    "c = ClassicalRegister(3)\n",
    "qc = QuantumCircuit(q, c)\n",
    "\n",
    "# Prepare an initial state using a single unitary\n",
    "qc.u1(0.5, q[0])\n",
    "\n",
    " # Prepare an entangled pair using qubit ② and qubit ③\n",
    "qc.h(q[1])\n",
    "qc.cx(q[1], q[2])\n",
    "oq.Wavefunction(qc)\n",
    "# Barrier to prevent gate reordering for optimization\n",
    "qc.barrier(q)\n",
    "qc.draw()"
   ]
  },
  {
   "cell_type": "markdown",
   "id": "b68ddc2f",
   "metadata": {},
   "source": [
    "---\n",
    "The state of the three qubits now is:\n",
    "\n",
    "$$\n",
    "\\frac{1}{\\sqrt{2}}\\left[\\begin{array}{c}{\\alpha|0\\rangle(|00\\rangle+|11\\rangle)+} \\\\ {\\beta|1\\rangle(|00\\rangle+|11\\rangle)}\\end{array}\\right]\n",
    "$$\n",
    "\n",
    "Just like we mentioned in quantum communication, we now apply a *CNOT* gate to the system, between the qubit Alice wants to teleport and the one entageled with Bob's.\n",
    "\n",
    "$$\n",
    "\\frac{1}{\\sqrt{2}}\\left[\\begin{array}{c}{\\alpha|0\\rangle(|00\\rangle+|11\\rangle)+} \\\\ {\\beta|1\\rangle(|10\\rangle+|01\\rangle)}\\end{array}\\right]\n",
    "$$    \n",
    "\n",
    "\n",
    "Alice go ahead and measures the result, giving her 1 or 0.\n",
    "\n",
    "**How is this information helpful?**   \n",
    "\n",
    "The result means that the remaining states are:\n",
    "\n",
    "$$\n",
    "0 {\\longrightarrow} \\alpha|00\\rangle+\\beta|11\\rangle\n",
    "$$\n",
    "\n",
    "*OR*\n",
    "\n",
    "$$\n",
    "1 {\\longrightarrow} \\alpha|01\\rangle+\\beta|10\\rangle\n",
    "$$\n",
    "\n",
    "At this point Alice writes this measurement down and tells Bob what she measured. Both Alice and Bob know that they can flip the state using the X gate.\n"
   ]
  },
  {
   "cell_type": "code",
   "execution_count": 3,
   "id": "2b9c2b29",
   "metadata": {},
   "outputs": [],
   "source": [
    "#Code for the prvious cell\n",
    "# Perform a CNOT between qubit (1) and qubit (2)\n",
    "qc.cx(q[0], q[1])\n",
    "\n",
    "# Measure qubit (2) in the computational basis\n",
    "qc.measure(q[1], c[1])\n",
    "\n",
    "# Measure qubit (1) in the |+> and |-> basis\n",
    "qc.h(q[0])\n",
    "qc.measure(q[0], c[0])\n",
    "\n",
    "# If needed Perform a bit flip correction to qubit (3)\n",
    "if c[1] == 1:\n",
    "    qc.x(q[2])"
   ]
  },
  {
   "cell_type": "markdown",
   "id": "964c58c9",
   "metadata": {},
   "source": [
    "---\n",
    "The next thing that Alice does is to perform a *Hadamard* transformation on her original qubit so that she can tell Bob if he needs to perform a phase flip on his qubit or not. \n",
    "\n",
    "Alice now performs a _*measurement*_ after applying the Hadamard gate which enables her to measure a 0 when the qubit is $|+\\rangle$ and 1 when the qubit is $|−\\rangle$, she then send the results of this measurement to Bob. \n"
   ]
  },
  {
   "cell_type": "code",
   "execution_count": 4,
   "id": "3be40485",
   "metadata": {},
   "outputs": [],
   "source": [
    "# Measure qubit (1) in the |+> and |-> basis\n",
    "qc.h(q[0])\n",
    "qc.measure(q[0], c[0])\n",
    "\n",
    "# If needed Perform a bit flip correction to qubit (3)\n",
    "if c[1] == 1:\n",
    "    qc.x(q[2])"
   ]
  },
  {
   "cell_type": "markdown",
   "id": "a1ffe664",
   "metadata": {},
   "source": [
    "---\n",
    "*Although* we _DID_ telport a qubit from Alice to Bob, Alice and Bob did not communicate *faster* than the speed of light!!\n",
    "\n",
    "Alice needed to share her measurement with Bob through some classical channel which is _not_ faster than light!\n",
    "\n",
    "Alice ended up destroying her qubit in the process of sending it to Bob."
   ]
  },
  {
   "cell_type": "code",
   "execution_count": 5,
   "id": "5d7ef102",
   "metadata": {},
   "outputs": [
    {
     "name": "stdout",
     "output_type": "stream",
     "text": [
      "{'111': 280, '001': 253, '110': 226, '000': 265}\n"
     ]
    },
    {
     "data": {
      "text/html": [
       "<pre style=\"word-wrap: normal;white-space: pre;background: #fff0;line-height: 1.1;font-family: &quot;Courier New&quot;,Courier,monospace\">                  ░      ┌───┐┌─┐\n",
       "q13_0: ───────────░───■──┤ H ├┤M├\n",
       "       ┌───┐      ░ ┌─┴─┐└┬─┬┘└╥┘\n",
       "q13_1: ┤ H ├──■───░─┤ X ├─┤M├──╫─\n",
       "       └───┘┌─┴─┐ ░ └┬─┬┘ └╥┘  ║ \n",
       "q13_2: ─────┤ X ├─░──┤M├───╫───╫─\n",
       "            └───┘ ░  └╥┘   ║   ║ \n",
       " c2: 3/═══════════════╩════╩═══╩═\n",
       "                      2    1   0 </pre>"
      ],
      "text/plain": [
       "                  ░      ┌───┐┌─┐\n",
       "q13_0: ───────────░───■──┤ H ├┤M├\n",
       "       ┌───┐      ░ ┌─┴─┐└┬─┬┘└╥┘\n",
       "q13_1: ┤ H ├──■───░─┤ X ├─┤M├──╫─\n",
       "       └───┘┌─┴─┐ ░ └┬─┬┘ └╥┘  ║ \n",
       "q13_2: ─────┤ X ├─░──┤M├───╫───╫─\n",
       "            └───┘ ░  └╥┘   ║   ║ \n",
       " c2: 3/═══════════════╩════╩═══╩═\n",
       "                      2    1   0 "
      ]
     },
     "execution_count": 5,
     "metadata": {},
     "output_type": "execute_result"
    }
   ],
   "source": [
    "#The complete code for teleportation\n",
    "#Libraries needed to implement and simulate quantum circuits\n",
    "from qiskit import QuantumRegister, ClassicalRegister, QuantumCircuit, Aer, execute \n",
    "# Create a Quantum Register and classical registers with 3 qubits and 3 classical bits.\n",
    "q = QuantumRegister(3)\n",
    "c = ClassicalRegister(3)\n",
    "qc = QuantumCircuit(q, c)\n",
    " # Prepare an entangled pair using qubit (2) and qubit (3)\n",
    "qc.h(q[1])\n",
    "qc.cx(q[1], q[2])\n",
    "# Barrier to prevent gate reordering for optimization\n",
    "qc.barrier(q)\n",
    "# Perform a CNOT between qubit (1) and qubit (2)\n",
    "qc.cx(q[0], q[1])\n",
    "# Measure qubit (2) in the computational basis\n",
    "qc.measure(q[1], c[1])\n",
    "# Measure qubit (1) in the |+> and |-> basis\n",
    "qc.h(q[0])\n",
    "qc.measure(q[0], c[0])\n",
    "# If needed Perform a phase correction to qubit (3)\n",
    "if c[0] == 1:\n",
    "    qc.z(q[2])\n",
    "# If needed Perform a bit flip correction to qubit (3)\n",
    "if c[1] == 1:\n",
    "    qc.x(q[2])\n",
    "qc.measure(q[2], c[2])\n",
    "# Compile and run the Quantum circuit on a simulator backend\n",
    "job_sim = execute(qc, Q_simulator)\n",
    "sim_result = job_sim.result()\n",
    "M = sim_result.get_counts(qc)\n",
    "print(M)\n",
    "qc.draw()"
   ]
  },
  {
   "cell_type": "markdown",
   "id": "ca0837f3-3520-47fb-8cc4-d0440eea0013",
   "metadata": {},
   "source": [
    "EXERCISE: Edit this cell to describe the _meaning_ of the qubits measured above.  Can you identify the input qubit, the Bell pair used for the teleportation, and the output qubit (which is hopefully the same as the input qubit)? Hint: you may want to edit the code above and add some additional print or measurement operations, or use `print(oq.Wavefunction(qc))` to learn more about the wavefunction at different points in the execution."
   ]
  },
  {
   "cell_type": "markdown",
   "id": "22786493",
   "metadata": {},
   "source": [
    "## References:\n",
    "---\n",
    "1. Qiskit. “Qiskit/Qiskit-Tutorials.” GitHub, 20 July 2019, github.com/Qiskit/qiskit-tutorials.\n",
    "2. Koch, Daniel, Laura Wessing, and Paul M. Alsing. \"Introduction to Coding Quantum Algorithms: A Tutorial Series Using Pyquil.\" arXiv preprint arXiv:1903.05195 (2019).\n",
    "3. stevenatkin. “Untangling Quantum Teleportation.” Medium, Qiskit, 24 July 2018, medium.com/qiskit/untangling-quantum-teleportation-919cbd673074.\n",
    "4. All pictures used are from Google image search\n"
   ]
  }
 ],
 "metadata": {
  "kernelspec": {
   "display_name": "Python 3 (ipykernel)",
   "language": "python",
   "name": "python3"
  },
  "language_info": {
   "codemirror_mode": {
    "name": "ipython",
    "version": 3
   },
   "file_extension": ".py",
   "mimetype": "text/x-python",
   "name": "python",
   "nbconvert_exporter": "python",
   "pygments_lexer": "ipython3",
   "version": "3.9.7"
  },
  "latex_envs": {
   "LaTeX_envs_menu_present": true,
   "autoclose": true,
   "autocomplete": true,
   "bibliofile": "biblio.bib",
   "cite_by": "apalike",
   "current_citInitial": 1,
   "eqLabelWithNumbers": true,
   "eqNumInitial": 1,
   "hotkeys": {
    "equation": "Ctrl-E",
    "itemize": "Ctrl-I"
   },
   "labels_anchors": false,
   "latex_user_defs": false,
   "report_style_numbering": false,
   "user_envs_cfg": false
  },
  "toc": {
   "base_numbering": 1,
   "nav_menu": {},
   "number_sections": true,
   "sideBar": true,
   "skip_h1_title": false,
   "title_cell": "Table of Contents",
   "title_sidebar": "Contents",
   "toc_cell": false,
   "toc_position": {},
   "toc_section_display": true,
   "toc_window_display": false
  }
 },
 "nbformat": 4,
 "nbformat_minor": 5
}
