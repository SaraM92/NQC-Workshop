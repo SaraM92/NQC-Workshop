{
 "cells": [
  {
   "cell_type": "markdown",
   "id": "e9685b25",
   "metadata": {},
   "source": [
    "<img src=\"Imgs/swap.png\">"
   ]
  },
  {
   "cell_type": "markdown",
   "id": "c2c4fe29",
   "metadata": {},
   "source": [
    "But it gets even better! Imagine now _Alice_ and _Bob_ share an entangled pair, _Alice_ and _Charlie_ share an entangled pair, and _Charlie_ and _Diane_ share an entangled pair. So, we have 6 qubits in total and they are paired off. _Alice_ and _Bob_ perform the teleportation protocol, as do _Charlie_ and _Diane_.   \n",
    "\n",
    "\n",
    "_Alice_ and _Charlie_ measure and hence collapse each of the qubits they had initially entangled. Those qubits are individually teleported to _Bob_ and _Diane_, respectively. But, _Bob_ and _Diane_ now share entanglement!   \n",
    "\n",
    "\n",
    "\n",
    "This protocol is called entanglement swapping and it is very useful in quantum networking scenarios."
   ]
  },
  {
   "cell_type": "code",
   "execution_count": 1,
   "id": "48e5a1c3",
   "metadata": {},
   "outputs": [],
   "source": [
    "#Codes in this notebook are inspired by IBM's Qiskit tutorials and the arXiv:1903.04359v1 paper\n",
    "\n",
    "#Libraries needed to implement and simulate quantum circuits\n",
    "from qiskit import QuantumRegister, ClassicalRegister, QuantumCircuit, Aer, execute \n",
    "import math as m\n",
    "#Custem functions to simplify answers\n",
    "import Our_Qiskit_Functions as oq #a part of the libabry presented in arXiv:1903.04359v1.\n",
    "\n",
    "\n",
    "#Initialize backends simulators to visualize circuits\n",
    "S_simulator = Aer.backends(name='statevector_simulator')[0]\n",
    "Q_simulator = Aer.backends(name='qasm_simulator')[0]\n",
    "sim = Aer.get_backend('aer_simulator')\n",
    "\n",
    "#Create quantum registers (to hold qubits)\n",
    "q = QuantumRegister(2)\n",
    "#Classical register to hold classical bits (Used to measure results)\n",
    "c = ClassicalRegister(2)\n",
    "#Create a quantum circuit using the above registers\n",
    "qc = QuantumCircuit(q,c)"
   ]
  },
  {
   "cell_type": "markdown",
   "id": "dabcab0e",
   "metadata": {},
   "source": [
    "## The Bell States\n",
    "---\n",
    "\n",
    "There are four states of two qubits which lead to this maximal value of $2\\sqrt{2}$ and they are known as the four maximally entangled two-qubit states or Bell states.    \n",
    "\n",
    "\n",
    "$\\begin{aligned}\n",
    "\\left|\\Phi_{+}\\right\\rangle=\\frac{1}{\\sqrt{2}}(|00\\rangle+|11\\rangle)\n",
    "\\\\\n",
    "\\left|\\Phi_{-}\\right\\rangle=\\frac{1}{\\sqrt{2}}(|00\\rangle-|11\\rangle)\n",
    "\\\\\n",
    "\\left|\\Psi_{+}\\right\\rangle=\\frac{1}{\\sqrt{2}}(|01\\rangle+|10\\rangle)\n",
    "\\\\\n",
    "\\left|\\Psi_{-}\\right\\rangle=\\frac{1}{\\sqrt{2}}(|01\\rangle-|10\\rangle)\n",
    "\\end{aligned}$"
   ]
  },
  {
   "cell_type": "code",
   "execution_count": 2,
   "id": "d39c9807",
   "metadata": {},
   "outputs": [
    {
     "data": {
      "text/html": [
       "<pre style=\"word-wrap: normal;white-space: pre;background: #fff0;line-height: 1.1;font-family: &quot;Courier New&quot;,Courier,monospace\">      ┌───┐     \n",
       "q0_0: ┤ H ├──■──\n",
       "      └───┘┌─┴─┐\n",
       "q0_1: ─────┤ X ├\n",
       "           └───┘\n",
       "c0: 2/══════════\n",
       "                </pre>"
      ],
      "text/plain": [
       "      ┌───┐     \n",
       "q0_0: ┤ H ├──■──\n",
       "      └───┘┌─┴─┐\n",
       "q0_1: ─────┤ X ├\n",
       "           └───┘\n",
       "c0: 2/══════════\n",
       "                "
      ]
     },
     "execution_count": 2,
     "metadata": {},
     "output_type": "execute_result"
    }
   ],
   "source": [
    "#Creating Phi+\n",
    "qc.h(q[0])\n",
    "qc.cx(q[0],q[1])\n",
    "qc.draw(output = \"mpl\")"
   ]
  },
  {
   "cell_type": "code",
   "execution_count": 3,
   "id": "df70198e",
   "metadata": {},
   "outputs": [
    {
     "data": {
      "text/html": [
       "<pre style=\"word-wrap: normal;white-space: pre;background: #fff0;line-height: 1.1;font-family: &quot;Courier New&quot;,Courier,monospace\">      ┌───┐     ┌───┐          \n",
       "q0_0: ┤ H ├──■──┤ H ├──■───────\n",
       "      └───┘┌─┴─┐└───┘┌─┴─┐┌───┐\n",
       "q0_1: ─────┤ X ├─────┤ X ├┤ Z ├\n",
       "           └───┘     └───┘└───┘\n",
       "c0: 2/═════════════════════════\n",
       "                               </pre>"
      ],
      "text/plain": [
       "      ┌───┐     ┌───┐          \n",
       "q0_0: ┤ H ├──■──┤ H ├──■───────\n",
       "      └───┘┌─┴─┐└───┘┌─┴─┐┌───┐\n",
       "q0_1: ─────┤ X ├─────┤ X ├┤ Z ├\n",
       "           └───┘     └───┘└───┘\n",
       "c0: 2/═════════════════════════\n",
       "                               "
      ]
     },
     "execution_count": 3,
     "metadata": {},
     "output_type": "execute_result"
    }
   ],
   "source": [
    "#Creating Phi-\n",
    "qc.h(q[0])\n",
    "qc.cx(q[0],q[1])\n",
    "qc.z(q[1])\n",
    "qc.draw(output = \"mpl\")"
   ]
  },
  {
   "cell_type": "code",
   "execution_count": 4,
   "id": "9ad3c839",
   "metadata": {},
   "outputs": [
    {
     "data": {
      "text/html": [
       "<pre style=\"word-wrap: normal;white-space: pre;background: #fff0;line-height: 1.1;font-family: &quot;Courier New&quot;,Courier,monospace\">      ┌───┐     ┌───┐     ┌───┐          \n",
       "q0_0: ┤ H ├──■──┤ H ├──■──┤ H ├──■───────\n",
       "      └───┘┌─┴─┐└───┘┌─┴─┐├───┤┌─┴─┐┌───┐\n",
       "q0_1: ─────┤ X ├─────┤ X ├┤ Z ├┤ X ├┤ X ├\n",
       "           └───┘     └───┘└───┘└───┘└───┘\n",
       "c0: 2/═══════════════════════════════════\n",
       "                                         </pre>"
      ],
      "text/plain": [
       "      ┌───┐     ┌───┐     ┌───┐          \n",
       "q0_0: ┤ H ├──■──┤ H ├──■──┤ H ├──■───────\n",
       "      └───┘┌─┴─┐└───┘┌─┴─┐├───┤┌─┴─┐┌───┐\n",
       "q0_1: ─────┤ X ├─────┤ X ├┤ Z ├┤ X ├┤ X ├\n",
       "           └───┘     └───┘└───┘└───┘└───┘\n",
       "c0: 2/═══════════════════════════════════\n",
       "                                         "
      ]
     },
     "execution_count": 4,
     "metadata": {},
     "output_type": "execute_result"
    }
   ],
   "source": [
    "#Creating Psi+\n",
    "qc.h(q[0])\n",
    "qc.cx(q[0],q[1])\n",
    "qc.x(q[1])\n",
    "qc.draw(output = \"mpl\")"
   ]
  },
  {
   "cell_type": "code",
   "execution_count": 5,
   "id": "693a139d",
   "metadata": {},
   "outputs": [
    {
     "data": {
      "text/html": [
       "<pre style=\"word-wrap: normal;white-space: pre;background: #fff0;line-height: 1.1;font-family: &quot;Courier New&quot;,Courier,monospace\">      ┌───┐     ┌───┐     ┌───┐     ┌───┐               \n",
       "q0_0: ┤ H ├──■──┤ H ├──■──┤ H ├──■──┤ H ├──■────────────\n",
       "      └───┘┌─┴─┐└───┘┌─┴─┐├───┤┌─┴─┐├───┤┌─┴─┐┌───┐┌───┐\n",
       "q0_1: ─────┤ X ├─────┤ X ├┤ Z ├┤ X ├┤ X ├┤ X ├┤ Z ├┤ X ├\n",
       "           └───┘     └───┘└───┘└───┘└───┘└───┘└───┘└───┘\n",
       "c0: 2/══════════════════════════════════════════════════\n",
       "                                                        </pre>"
      ],
      "text/plain": [
       "      ┌───┐     ┌───┐     ┌───┐     ┌───┐               \n",
       "q0_0: ┤ H ├──■──┤ H ├──■──┤ H ├──■──┤ H ├──■────────────\n",
       "      └───┘┌─┴─┐└───┘┌─┴─┐├───┤┌─┴─┐├───┤┌─┴─┐┌───┐┌───┐\n",
       "q0_1: ─────┤ X ├─────┤ X ├┤ Z ├┤ X ├┤ X ├┤ X ├┤ Z ├┤ X ├\n",
       "           └───┘     └───┘└───┘└───┘└───┘└───┘└───┘└───┘\n",
       "c0: 2/══════════════════════════════════════════════════\n",
       "                                                        "
      ]
     },
     "execution_count": 5,
     "metadata": {},
     "output_type": "execute_result"
    }
   ],
   "source": [
    "#Creating Psi-\n",
    "qc.h(q[0])\n",
    "qc.cx(q[0],q[1])\n",
    "qc.z(q[1])\n",
    "qc.x(q[1])\n",
    "qc.draw(output = \"mpl\")"
   ]
  },
  {
   "cell_type": "markdown",
   "id": "74138a41",
   "metadata": {
    "tags": []
   },
   "source": [
    "## Bell state analyzer\n",
    "---\n",
    "\n",
    "Suppose we have an arbitrary Bell state and we want to know which one it is. Some systems (e.g., when we are working with photons) can directly detect _some_ Bell states. For memory-based qubit systems, we can figure out which Bell state we have by using a CNOT and a Hadamard gate, then measuring the state in the computational (z-basis) basis. If the Bell state is good, then doing so will always give the same pattern that we can then use to classify the input Bell state. That's the job of a Bell state analyzer. The table below shows how to map from the measurement outputs to which one of the Bell states we had.\n",
    "\n",
    "\n",
    "| Bell state| q0,q1  |\n",
    "|---------  |--------------       |\n",
    "| $\\left|\\Phi_{+}\\right\\rangle$         | 0,0       |\n",
    "| $\\left|\\Phi_{-}\\right\\rangle$         | 0,1       |\n",
    "| $\\left|\\Psi_{+}\\right\\rangle$         | 1,0       |\n",
    "| $\\left|\\Psi_{-}\\right\\rangle$         | 1,1       |"
   ]
  },
  {
   "cell_type": "code",
   "execution_count": 20,
   "id": "ac3c1c10",
   "metadata": {},
   "outputs": [
    {
     "name": "stdout",
     "output_type": "stream",
     "text": [
      "1.0  |10>   \n",
      "{'11': 505, '10': 519}\n"
     ]
    },
    {
     "data": {
      "text/html": [
       "<pre style=\"word-wrap: normal;white-space: pre;background: #fff0;line-height: 1.1;font-family: &quot;Courier New&quot;,Courier,monospace\">        ┌───┐     ┌───┐┌─┐\n",
       "q184_0: ┤ X ├──■──┤ H ├┤M├\n",
       "        └───┘┌─┴─┐└┬─┬┘└╥┘\n",
       "q184_1: ─────┤ X ├─┤M├──╫─\n",
       "             └───┘ └╥┘  ║ \n",
       " c14: 2/════════════╩═══╩═\n",
       "                    1   0 </pre>"
      ],
      "text/plain": [
       "        ┌───┐     ┌───┐┌─┐\n",
       "q184_0: ┤ X ├──■──┤ H ├┤M├\n",
       "        └───┘┌─┴─┐└┬─┬┘└╥┘\n",
       "q184_1: ─────┤ X ├─┤M├──╫─\n",
       "             └───┘ └╥┘  ║ \n",
       " c14: 2/════════════╩═══╩═\n",
       "                    1   0 "
      ]
     },
     "execution_count": 20,
     "metadata": {},
     "output_type": "execute_result"
    }
   ],
   "source": [
    "#Measure state Phi+\n",
    "q = QuantumRegister(2)\n",
    "#Classical register to hold classical bits (Used to measure results)\n",
    "c = ClassicalRegister(2)\n",
    "#Create a quantum circuit using the above registers\n",
    "qc = QuantumCircuit(q,c)\n",
    "\n",
    "#Create the state.\n",
    "# EXERCISE: Pick one of the Bell states, put in the two, three or four gates to create it.\n",
    "# EXERCISE: After you have done this with the Bell states, try it with |00>, |01>, |10>, and |11>\n",
    "# as inputs. What are the measurement results you get?  Can you map from that back to the original state?\n",
    "#qc.h(q[0])\n",
    "#qc.cx(q[0],q[1])\n",
    "qc.x(q[0])\n",
    "\n",
    "# let's see what the state is\n",
    "print(oq.Wavefunction(qc))\n",
    "\n",
    "#measure in the Bell basis\n",
    "qc.cx(q[0],q[1])\n",
    "qc.h(q[0])\n",
    "qc.measure(q,c)\n",
    "\n",
    "# Compile and run the Quantum circuit on a simulator backend\n",
    "job_sim = execute(qc, Q_simulator)\n",
    "sim_result = job_sim.result()\n",
    "M = sim_result.get_counts(qc)\n",
    "print(M)\n",
    "qc.draw(output = \"mpl\")"
   ]
  },
  {
   "cell_type": "markdown",
   "id": "1a6922ef",
   "metadata": {},
   "source": [
    "## Entanglement Swapping\n",
    "---\n",
    "\n",
    "Let's say we have three people, Alice, Bob and Clara. Alice and Bob each create a Bell state, and send one of their two qubits to Clara. We will emulate this structure by giving Alice and Bob each a two-qubit quantum register, and Clara a classical register, in the circuit below.\n",
    "\n",
    "\n",
    "Clara then performs a Bell state analyzing operation and sends the resulting two classical bits to Alice or Bob to apply on their remaining qubit. \n",
    "\n",
    "\n",
    "This results is used to select which unitary (x, z) is used on, say Bob's, initial qubit. Doing so, entangling Bob's qubit with Alice's initial one."
   ]
  },
  {
   "cell_type": "code",
   "execution_count": 22,
   "id": "6a5f50ee",
   "metadata": {},
   "outputs": [],
   "source": [
    "#Create the initial state\n",
    "alice = QuantumRegister(2)\n",
    "bob = QuantumRegister(2)\n",
    "clara = ClassicalRegister(2)\n",
    "qc = QuantumCircuit(alice, bob, clara)\n",
    "\n",
    "\n",
    "# Put Alice's qubits in Phi+ state\n",
    "qc.h(alice[0])\n",
    "qc.cx(alice[0],alice[1])\n",
    "\n",
    "#Put Bob's qubits in Phi+ state\n",
    "qc.h(bob[0])\n",
    "qc.cx(bob[0],bob[1])\n",
    "\n",
    "# Next, in the real world, Alice and Bob would each send a qubit to Clara.\n",
    "# Clara applies Bell state analyzer to alice[1] and bob[0]\n",
    "qc.cx(alice[1],bob[0])\n",
    "qc.h(bob[0])\n",
    "\n",
    "#Clara measures the qubits to complete the BSA\n",
    "qc.measure(alice[1],clara[0])\n",
    "qc.measure(bob[0],clara[1])\n",
    "\n",
    "# Now Clara would send the classical bits to Bob, which he can use to correct his qubit, after\n",
    "# which Alice and Bob should be left sharing a Bell pair, even though Alice and Bob have never\n",
    "# directly interacted.\n",
    "#Bob perform unitary transportation\n",
    "if clara[0] == 1:\n",
    "    qc.z(bob[1])\n",
    "# If needed Perform a bit flip correction to qubit (3)\n",
    "if clara[1] == 1:\n",
    "    qc.x(bob[1])\n",
    "\n",
    "# EXERCISE: Add code to print out the wave function on the remaining two qubits. Is it a Bell pair?\n",
    "# EXERCISE: Add code to measure out the two remaining qubits. Do the results match what you expect?\n",
    "    "
   ]
  }
 ],
 "metadata": {
  "kernelspec": {
   "display_name": "Python 3",
   "language": "python",
   "name": "python3"
  },
  "language_info": {
   "codemirror_mode": {
    "name": "ipython",
    "version": 3
   },
   "file_extension": ".py",
   "mimetype": "text/x-python",
   "name": "python",
   "nbconvert_exporter": "python",
   "pygments_lexer": "ipython3",
   "version": "3.8.8"
  },
  "latex_envs": {
   "LaTeX_envs_menu_present": true,
   "autoclose": true,
   "autocomplete": true,
   "bibliofile": "biblio.bib",
   "cite_by": "apalike",
   "current_citInitial": 1,
   "eqLabelWithNumbers": true,
   "eqNumInitial": 1,
   "hotkeys": {
    "equation": "Ctrl-E",
    "itemize": "Ctrl-I"
   },
   "labels_anchors": false,
   "latex_user_defs": false,
   "report_style_numbering": false,
   "user_envs_cfg": false
  },
  "toc": {
   "base_numbering": 1,
   "nav_menu": {},
   "number_sections": true,
   "sideBar": true,
   "skip_h1_title": false,
   "title_cell": "Table of Contents",
   "title_sidebar": "Contents",
   "toc_cell": false,
   "toc_position": {},
   "toc_section_display": true,
   "toc_window_display": false
  }
 },
 "nbformat": 4,
 "nbformat_minor": 5
}
